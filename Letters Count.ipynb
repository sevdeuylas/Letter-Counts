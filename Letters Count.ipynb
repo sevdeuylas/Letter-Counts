{
 "cells": [
  {
   "cell_type": "markdown",
   "metadata": {},
   "source": [
    "# Letters Count\n",
    "## Task:\n",
    "\n",
    "## Count the number of each letter in a sentence.\n",
    "## The department you work for undertook a project construction that makes word / text analysis. You are asked to calculate the number of letters or any chars in the sentences entered under this project.\n",
    "## Write a Python program that;\n",
    "## 1. takes a sentence from the user,\n",
    "## 2. counts the number of each letter of the sentence,\n",
    "## 3. collects the letters/chars as a key and the counted numbers as a value in a dictionary."
   ]
  },
  {
   "cell_type": "code",
   "execution_count": 6,
   "metadata": {},
   "outputs": [
    {
     "name": "stdout",
     "output_type": "stream",
     "text": [
      "Enter a sentence.today is 30 F\n",
      "{'t': 1, 'o': 1, 'd': 1, 'a': 1, 'y': 1, ' ': 3, 'i': 1, 's': 1, '3': 1, '0': 1, 'F': 1}\n"
     ]
    }
   ],
   "source": [
    "sentence = input(\"Enter a sentence.\")\n",
    "my_dict = {}\n",
    "\n",
    "for i in sentence:\n",
    "    keys = my_dict.keys() \n",
    "    if i in keys:\n",
    "        my_dict[i] += 1\n",
    "    else:\n",
    "        my_dict[i] = 1\n",
    "print(my_dict)\n",
    "        "
   ]
  },
  {
   "cell_type": "code",
   "execution_count": null,
   "metadata": {},
   "outputs": [],
   "source": []
  }
 ],
 "metadata": {
  "kernelspec": {
   "display_name": "Python 3",
   "language": "python",
   "name": "python3"
  },
  "language_info": {
   "codemirror_mode": {
    "name": "ipython",
    "version": 3
   },
   "file_extension": ".py",
   "mimetype": "text/x-python",
   "name": "python",
   "nbconvert_exporter": "python",
   "pygments_lexer": "ipython3",
   "version": "3.7.3"
  }
 },
 "nbformat": 4,
 "nbformat_minor": 2
}
